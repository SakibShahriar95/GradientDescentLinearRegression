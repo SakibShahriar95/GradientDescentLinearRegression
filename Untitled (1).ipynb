{
 "cells": [
  {
   "cell_type": "code",
   "execution_count": 1,
   "metadata": {},
   "outputs": [],
   "source": [
    "#Gradient Descent for Linear Regression\n",
    "import pandas as pd\n",
    "import numpy as np\n",
    "import matplotlib.pyplot as plt\n",
    "import matplotlib.animation as animation\n",
    "#Contains the housing prices data https://www.kaggle.com/c/house-prices-advanced-regression-techniques\n",
    "data = pd.read_csv('train.csv')"
   ]
  },
  {
   "cell_type": "code",
   "execution_count": 2,
   "metadata": {},
   "outputs": [],
   "source": [
    "X = data['GrLivArea']\n",
    "y = data['SalePrice']"
   ]
  },
  {
   "cell_type": "code",
   "execution_count": 3,
   "metadata": {},
   "outputs": [],
   "source": [
    "#Feature Scaling\n",
    "X = (X - X.mean()) / X.std()\n",
    "#Add X0 (Columns of 1)\n",
    "X = np.c_[np.ones(X.shape[0]), X]"
   ]
  },
  {
   "cell_type": "code",
   "execution_count": 4,
   "metadata": {},
   "outputs": [],
   "source": [
    "#Grad descent parameters\n",
    "Alpha = 0.05\n",
    "Iterations = 1000\n",
    "m = y.size #number of training examples\n",
    "theta = np.random.rand(2) #assign theta0 and theta 1 to random numbers\n"
   ]
  },
  {
   "cell_type": "code",
   "execution_count": 5,
   "metadata": {},
   "outputs": [],
   "source": [
    "def gradient_descent(alpha,iterations,x,y,theta_initial):\n",
    "    old_costs = []\n",
    "    thetas = [theta_initial]\n",
    "    for j in range(iterations):\n",
    "        prediction = np.dot(X,theta_initial) #dot product calculates h of x\n",
    "        error = prediction -y\n",
    "        cost = 1/(2*m) * np.sum(error**2) \n",
    "        old_costs.append(cost)\n",
    "        theta_initial = theta_initial - (alpha* (1/m)* np.dot(x.T, error)) #update theta\n",
    "        thetas.append(theta_initial)\n",
    "            \n",
    "    return old_costs, thetas            "
   ]
  },
  {
   "cell_type": "code",
   "execution_count": 6,
   "metadata": {},
   "outputs": [
    {
     "name": "stdout",
     "output_type": "stream",
     "text": [
      "Gradient Descent: 180921.20, 56294.90\n"
     ]
    }
   ],
   "source": [
    "costs, thetas = gradient_descent(Alpha,Iterations,X,y,theta)\n",
    "theta = thetas[-1]\n",
    "print(\"Gradient Descent: {:.2f}, {:.2f}\".format(theta[0], theta[1]))"
   ]
  },
  {
   "cell_type": "code",
   "execution_count": 7,
   "metadata": {},
   "outputs": [
    {
     "data": {
      "image/png": "[encoded data removed]",
      "text/plain": [
       "<Figure size 432x288 with 1 Axes>"
      ]
     },
     "metadata": {
      "needs_background": "light"
     },
     "output_type": "display_data"
    }
   ],
   "source": [
    "plt.title('Cost Function J(theta)')\n",
    "plt.xlabel('Iterations')\n",
    "plt.ylabel('Cost')\n",
    "plt.plot(costs)\n",
    "plt.show()"
   ]
  }
 ],
 "metadata": {
  "kernelspec": {
   "display_name": "Python 3",
   "language": "python",
   "name": "python3"
  },
  "language_info": {
   "codemirror_mode": {
    "name": "ipython",
    "version": 3
   },
   "file_extension": ".py",
   "mimetype": "text/x-python",
   "name": "python",
   "nbconvert_exporter": "python",
   "pygments_lexer": "ipython3",
   "version": "3.7.1"
  }
 },
 "nbformat": 4,
 "nbformat_minor": 2
}
